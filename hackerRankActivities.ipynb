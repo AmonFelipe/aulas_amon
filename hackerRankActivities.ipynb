{
 "cells": [
  {
   "cell_type": "code",
   "execution_count": null,
   "metadata": {},
   "outputs": [],
   "source": [
    "N = int(input())\n",
    "lista = []\n",
    "for i in range(N):\n",
    "    comando = int(input('''Escolha um dos \n",
    "    seguintes comandos:\n",
    "    1. inserir e em i\n",
    "    2. Printar lista\n",
    "    3. remover e\n",
    "    4. inserir e no final\n",
    "    5. Ordenar lista\n",
    "    6. remover ultimo elemento\n",
    "    7. reverter lista'''\n",
    "    ))\n",
    "    if comando == 4:\n",
    "        item = int(input('informe o numero que vc quer armazenar na lista: '))\n",
    "        lista.append(item)\n",
    "    if  comando == 2:\n",
    "        print(lista)\n",
    "        "
   ]
  }
 ],
 "metadata": {
  "language_info": {
   "name": "python"
  }
 },
 "nbformat": 4,
 "nbformat_minor": 2
}
